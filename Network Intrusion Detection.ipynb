{
 "cells": [
  {
   "cell_type": "markdown",
   "metadata": {
    "execution": {
     "iopub.execute_input": "2021-06-27T08:36:09.404663Z",
     "iopub.status.busy": "2021-06-27T08:36:09.404436Z",
     "iopub.status.idle": "2021-06-27T08:36:09.570740Z",
     "shell.execute_reply": "2021-06-27T08:36:09.570151Z",
     "shell.execute_reply.started": "2021-06-27T08:36:09.404641Z"
    }
   },
   "source": [
    "# Network Intrusion Detection "
   ]
  },
  {
   "cell_type": "code",
   "execution_count": 27,
   "metadata": {
    "execution": {
     "iopub.execute_input": "2021-06-27T17:14:22.456982Z",
     "iopub.status.busy": "2021-06-27T17:14:22.456749Z",
     "iopub.status.idle": "2021-06-27T17:14:22.461075Z",
     "shell.execute_reply": "2021-06-27T17:14:22.460550Z",
     "shell.execute_reply.started": "2021-06-27T17:14:22.456956Z"
    }
   },
   "outputs": [],
   "source": [
    "# import required libraries\n",
    "import pandas as pd\n",
    "import numpy as np\n",
    "import tensorflow as tf\n",
    "\n",
    "from tensorflow.keras.models import Sequential\n",
    "from tensorflow.keras.layers import Dense, Dropout, Activation\n",
    "from sklearn.metrics import (precision_score, recall_score,f1_score, accuracy_score)\n",
    "from sklearn.preprocessing import Normalizer\n",
    "import h5py\n",
    "\n",
    "from sklearn.metrics import confusion_matrix"
   ]
  },
  {
   "cell_type": "code",
   "execution_count": 28,
   "metadata": {
    "execution": {
     "iopub.execute_input": "2021-06-27T17:14:22.835618Z",
     "iopub.status.busy": "2021-06-27T17:14:22.835439Z",
     "iopub.status.idle": "2021-06-27T17:14:24.952523Z",
     "shell.execute_reply": "2021-06-27T17:14:24.951945Z",
     "shell.execute_reply.started": "2021-06-27T17:14:22.835599Z"
    }
   },
   "outputs": [],
   "source": [
    "# Load the data\n",
    "import os\n",
    "os.chdir(r\"C:\\Users\\apega\\My py notes\\Deep Learning with python\\Other files\\Network Intrusion Detection data\")\n",
    "\n",
    "traindata = pd.read_csv('Training.csv', header=None)\n",
    "testdata = pd.read_csv('Testing.csv', header=None)"
   ]
  },
  {
   "cell_type": "markdown",
   "metadata": {},
   "source": [
    "# Data preprocessing"
   ]
  },
  {
   "cell_type": "code",
   "execution_count": 29,
   "metadata": {
    "execution": {
     "iopub.execute_input": "2021-06-27T17:14:24.985161Z",
     "iopub.status.busy": "2021-06-27T17:14:24.984984Z",
     "iopub.status.idle": "2021-06-27T17:14:25.029690Z",
     "shell.execute_reply": "2021-06-27T17:14:25.029149Z",
     "shell.execute_reply.started": "2021-06-27T17:14:24.985140Z"
    }
   },
   "outputs": [],
   "source": [
    "# Sampling\n",
    "traindata = traindata.sample(30000)\n",
    "testdata = testdata.sample(6000)"
   ]
  },
  {
   "cell_type": "code",
   "execution_count": 30,
   "metadata": {
    "execution": {
     "iopub.execute_input": "2021-06-27T17:14:25.030829Z",
     "iopub.status.busy": "2021-06-27T17:14:25.030647Z",
     "iopub.status.idle": "2021-06-27T17:14:25.035957Z",
     "shell.execute_reply": "2021-06-27T17:14:25.035435Z",
     "shell.execute_reply.started": "2021-06-27T17:14:25.030806Z"
    }
   },
   "outputs": [
    {
     "data": {
      "text/plain": [
       "1    23942\n",
       "0     6058\n",
       "Name: 0, dtype: int64"
      ]
     },
     "execution_count": 30,
     "metadata": {},
     "output_type": "execute_result"
    }
   ],
   "source": [
    "traindata[0].value_counts()"
   ]
  },
  {
   "cell_type": "code",
   "execution_count": 31,
   "metadata": {
    "execution": {
     "iopub.execute_input": "2021-06-27T17:14:25.036932Z",
     "iopub.status.busy": "2021-06-27T17:14:25.036763Z",
     "iopub.status.idle": "2021-06-27T17:14:25.042226Z",
     "shell.execute_reply": "2021-06-27T17:14:25.041622Z",
     "shell.execute_reply.started": "2021-06-27T17:14:25.036912Z"
    }
   },
   "outputs": [
    {
     "data": {
      "text/plain": [
       "1    4859\n",
       "0    1141\n",
       "Name: 0, dtype: int64"
      ]
     },
     "execution_count": 31,
     "metadata": {},
     "output_type": "execute_result"
    }
   ],
   "source": [
    "testdata[0].value_counts()"
   ]
  },
  {
   "cell_type": "code",
   "execution_count": 32,
   "metadata": {
    "execution": {
     "iopub.execute_input": "2021-06-27T17:14:25.043146Z",
     "iopub.status.busy": "2021-06-27T17:14:25.042963Z",
     "iopub.status.idle": "2021-06-27T17:14:25.051361Z",
     "shell.execute_reply": "2021-06-27T17:14:25.050850Z",
     "shell.execute_reply.started": "2021-06-27T17:14:25.043125Z"
    }
   },
   "outputs": [],
   "source": [
    "# Class count\n",
    "count_class_1, count_class_0 = traindata[0].value_counts()\n",
    "\n",
    "# Divide by class\n",
    "df_train_class_0 = traindata[traindata[0] == 0]\n",
    "df_train_class_1 = traindata[traindata[0] == 1]"
   ]
  },
  {
   "cell_type": "code",
   "execution_count": 33,
   "metadata": {
    "execution": {
     "iopub.execute_input": "2021-06-27T17:14:25.503548Z",
     "iopub.status.busy": "2021-06-27T17:14:25.503273Z",
     "iopub.status.idle": "2021-06-27T17:14:25.518977Z",
     "shell.execute_reply": "2021-06-27T17:14:25.518455Z",
     "shell.execute_reply.started": "2021-06-27T17:14:25.503524Z"
    }
   },
   "outputs": [
    {
     "name": "stdout",
     "output_type": "stream",
     "text": [
      "Random over-sampling:\n",
      "0    23942\n",
      "1    23942\n",
      "Name: 0, dtype: int64\n"
     ]
    }
   ],
   "source": [
    "# Oversample \n",
    "\n",
    "df_train_class_0_over = df_train_class_0.sample(count_class_1, replace=True)\n",
    "df_train_over = pd.concat([df_train_class_1, df_train_class_0_over], axis=0)\n",
    "\n",
    "print('Random over-sampling:')\n",
    "print(df_train_over[0].value_counts())"
   ]
  },
  {
   "cell_type": "code",
   "execution_count": 34,
   "metadata": {
    "execution": {
     "iopub.execute_input": "2021-06-27T17:14:25.973691Z",
     "iopub.status.busy": "2021-06-27T17:14:25.973459Z",
     "iopub.status.idle": "2021-06-27T17:14:25.979920Z",
     "shell.execute_reply": "2021-06-27T17:14:25.979405Z",
     "shell.execute_reply.started": "2021-06-27T17:14:25.973668Z"
    }
   },
   "outputs": [],
   "source": [
    "# Class count\n",
    "count_class_1, count_class_0 = testdata[0].value_counts()\n",
    "\n",
    "# Divide by class\n",
    "df_test_class_0 = testdata[testdata[0] == 0]\n",
    "df_test_class_1 = testdata[testdata[0] == 1]"
   ]
  },
  {
   "cell_type": "code",
   "execution_count": 35,
   "metadata": {
    "execution": {
     "iopub.execute_input": "2021-06-27T17:14:26.345511Z",
     "iopub.status.busy": "2021-06-27T17:14:26.345270Z",
     "iopub.status.idle": "2021-06-27T17:14:26.354919Z",
     "shell.execute_reply": "2021-06-27T17:14:26.354367Z",
     "shell.execute_reply.started": "2021-06-27T17:14:26.345487Z"
    }
   },
   "outputs": [
    {
     "name": "stdout",
     "output_type": "stream",
     "text": [
      "Random over-sampling:\n",
      "0    4859\n",
      "1    4859\n",
      "Name: 0, dtype: int64\n"
     ]
    }
   ],
   "source": [
    "# Oversample\n",
    "\n",
    "df_test_class_0_over = df_test_class_0.sample(count_class_1, replace=True)\n",
    "df_test_over = pd.concat([df_test_class_1, df_test_class_0_over], axis=0)\n",
    "\n",
    "print('Random over-sampling:')\n",
    "print(df_test_over[0].value_counts())"
   ]
  },
  {
   "cell_type": "code",
   "execution_count": 36,
   "metadata": {
    "execution": {
     "iopub.execute_input": "2021-06-27T17:14:26.737075Z",
     "iopub.status.busy": "2021-06-27T17:14:26.736839Z",
     "iopub.status.idle": "2021-06-27T17:14:26.739857Z",
     "shell.execute_reply": "2021-06-27T17:14:26.739269Z",
     "shell.execute_reply.started": "2021-06-27T17:14:26.737052Z"
    }
   },
   "outputs": [],
   "source": [
    "import os\n",
    "os.environ['KMP_DUPLICATE_LIB_OK']='True'"
   ]
  },
  {
   "cell_type": "code",
   "execution_count": 37,
   "metadata": {
    "execution": {
     "iopub.execute_input": "2021-06-27T17:14:30.428311Z",
     "iopub.status.busy": "2021-06-27T17:14:30.427962Z",
     "iopub.status.idle": "2021-06-27T17:14:30.434512Z",
     "shell.execute_reply": "2021-06-27T17:14:30.433894Z",
     "shell.execute_reply.started": "2021-06-27T17:14:30.428273Z"
    }
   },
   "outputs": [],
   "source": [
    "X = df_train_over.iloc[:,1:5]\n",
    "Y = df_train_over.iloc[:,0]\n",
    "C = df_test_over.iloc[:,0]\n",
    "T = df_test_over.iloc[:,1:5]"
   ]
  },
  {
   "cell_type": "code",
   "execution_count": 38,
   "metadata": {
    "execution": {
     "iopub.execute_input": "2021-06-27T17:14:31.051685Z",
     "iopub.status.busy": "2021-06-27T17:14:31.051451Z",
     "iopub.status.idle": "2021-06-27T17:14:31.056853Z",
     "shell.execute_reply": "2021-06-27T17:14:31.056332Z",
     "shell.execute_reply.started": "2021-06-27T17:14:31.051662Z"
    }
   },
   "outputs": [
    {
     "data": {
      "text/plain": [
       "0    23942\n",
       "1    23942\n",
       "Name: 0, dtype: int64"
      ]
     },
     "execution_count": 38,
     "metadata": {},
     "output_type": "execute_result"
    }
   ],
   "source": [
    "Y.value_counts()"
   ]
  },
  {
   "cell_type": "code",
   "execution_count": 39,
   "metadata": {
    "execution": {
     "iopub.execute_input": "2021-06-27T17:14:31.743631Z",
     "iopub.status.busy": "2021-06-27T17:14:31.743368Z",
     "iopub.status.idle": "2021-06-27T17:14:31.752373Z",
     "shell.execute_reply": "2021-06-27T17:14:31.751870Z",
     "shell.execute_reply.started": "2021-06-27T17:14:31.743607Z"
    }
   },
   "outputs": [],
   "source": [
    "scaler = Normalizer().fit(X)\n",
    "trainX = scaler.transform(X)\n",
    "\n",
    "scaler = Normalizer().fit(T)\n",
    "testT = scaler.transform(T)"
   ]
  },
  {
   "cell_type": "code",
   "execution_count": 40,
   "metadata": {
    "execution": {
     "iopub.execute_input": "2021-06-27T17:14:32.368069Z",
     "iopub.status.busy": "2021-06-27T17:14:32.367842Z",
     "iopub.status.idle": "2021-06-27T17:14:32.371894Z",
     "shell.execute_reply": "2021-06-27T17:14:32.371194Z",
     "shell.execute_reply.started": "2021-06-27T17:14:32.368047Z"
    }
   },
   "outputs": [],
   "source": [
    "y_train = np.array(Y)\n",
    "y_test = np.array(C)\n",
    "\n",
    "\n",
    "X_train = np.array(trainX)\n",
    "X_test = np.array(testT)"
   ]
  },
  {
   "cell_type": "code",
   "execution_count": 41,
   "metadata": {
    "execution": {
     "iopub.execute_input": "2021-06-27T17:14:34.037086Z",
     "iopub.status.busy": "2021-06-27T17:14:34.036865Z",
     "iopub.status.idle": "2021-06-27T17:14:34.039607Z",
     "shell.execute_reply": "2021-06-27T17:14:34.039092Z",
     "shell.execute_reply.started": "2021-06-27T17:14:34.037064Z"
    }
   },
   "outputs": [],
   "source": [
    "batch_size = 64"
   ]
  },
  {
   "cell_type": "markdown",
   "metadata": {},
   "source": [
    "# Model"
   ]
  },
  {
   "cell_type": "code",
   "execution_count": 42,
   "metadata": {
    "execution": {
     "iopub.execute_input": "2021-06-27T17:14:34.753329Z",
     "iopub.status.busy": "2021-06-27T17:14:34.753094Z",
     "iopub.status.idle": "2021-06-27T17:14:50.431875Z",
     "shell.execute_reply": "2021-06-27T17:14:50.431241Z",
     "shell.execute_reply.started": "2021-06-27T17:14:34.753305Z"
    }
   },
   "outputs": [
    {
     "name": "stdout",
     "output_type": "stream",
     "text": [
      "Epoch 1/10\n",
      "749/749 [==============================] - 9s 12ms/step - loss: 0.3129 - accuracy: 0.8746 - val_loss: 0.3237 - val_accuracy: 0.9182\n",
      "Epoch 2/10\n",
      "749/749 [==============================] - 8s 11ms/step - loss: 0.1058 - accuracy: 0.9752 - val_loss: 0.2207 - val_accuracy: 0.9513\n",
      "Epoch 3/10\n",
      "749/749 [==============================] - 9s 12ms/step - loss: 0.0821 - accuracy: 0.9829 - val_loss: 0.2255 - val_accuracy: 0.9510\n",
      "Epoch 4/10\n",
      "749/749 [==============================] - 8s 11ms/step - loss: 0.0767 - accuracy: 0.9856 - val_loss: 0.2454 - val_accuracy: 0.9510\n",
      "Epoch 5/10\n",
      "749/749 [==============================] - 8s 11ms/step - loss: 0.0777 - accuracy: 0.9840 - val_loss: 0.2480 - val_accuracy: 0.9509\n",
      "Epoch 6/10\n",
      "749/749 [==============================] - 9s 12ms/step - loss: 0.0758 - accuracy: 0.9843 - val_loss: 0.2074 - val_accuracy: 0.9510\n",
      "Epoch 7/10\n",
      "749/749 [==============================] - 9s 12ms/step - loss: 0.0729 - accuracy: 0.9859 - val_loss: 0.2261 - val_accuracy: 0.9511\n",
      "Epoch 8/10\n",
      "749/749 [==============================] - 8s 11ms/step - loss: 0.0699 - accuracy: 0.9871 - val_loss: 0.2157 - val_accuracy: 0.9511\n",
      "Epoch 9/10\n",
      "749/749 [==============================] - 9s 12ms/step - loss: 0.0737 - accuracy: 0.9852 - val_loss: 0.2132 - val_accuracy: 0.9510\n",
      "Epoch 10/10\n",
      "749/749 [==============================] - 8s 11ms/step - loss: 0.0746 - accuracy: 0.9849 - val_loss: 0.2411 - val_accuracy: 0.9512\n",
      "<bound method Model.summary of <tensorflow.python.keras.engine.sequential.Sequential object at 0x0000029C4647CB50>>\n"
     ]
    }
   ],
   "source": [
    "model = Sequential()\n",
    "model.add(Dense(1000,input_dim=4,activation='relu'))  \n",
    "model.add(Dropout(0.5))\n",
    "model.add(Dense(700,activation='relu'))  \n",
    "model.add(Dropout(0.5))\n",
    "model.add(Dense(300,activation='relu'))  \n",
    "model.add(Dropout(0.5))\n",
    "model.add(Dense(100,activation='relu'))  \n",
    "model.add(Dropout(0.5))\n",
    "model.add(Dense(1))\n",
    "model.add(Activation('sigmoid'))\n",
    "\n",
    "model.compile(loss='binary_crossentropy',optimizer='adam',metrics=['accuracy'])\n",
    "\n",
    "history = model.fit(X_train, y_train, batch_size=batch_size, epochs=10, validation_data=(X_test,y_test))\n",
    "model.save(\"Saved Models/dnn_model.h5\")\n",
    "print(model.summary)"
   ]
  },
  {
   "cell_type": "markdown",
   "metadata": {},
   "source": [
    "# Plots"
   ]
  },
  {
   "cell_type": "code",
   "execution_count": 43,
   "metadata": {
    "execution": {
     "iopub.execute_input": "2021-06-27T17:14:53.435535Z",
     "iopub.status.busy": "2021-06-27T17:14:53.435276Z",
     "iopub.status.idle": "2021-06-27T17:14:53.545018Z",
     "shell.execute_reply": "2021-06-27T17:14:53.544359Z",
     "shell.execute_reply.started": "2021-06-27T17:14:53.435512Z"
    }
   },
   "outputs": [
    {
     "data": {
      "image/png": "[encoded data removed]",
      "text/plain": [
       "<Figure size 432x288 with 1 Axes>"
      ]
     },
     "metadata": {
      "needs_background": "light"
     },
     "output_type": "display_data"
    }
   ],
   "source": [
    "from matplotlib import pyplot as plt\n",
    "plt.plot(history.history['loss'])\n",
    "plt.plot(history.history['val_loss'])\n",
    "plt.title('model loss')\n",
    "plt.ylabel('loss')\n",
    "plt.xlabel('epoch')\n",
    "plt.legend(['train', 'validation'], loc='upper left')\n",
    "plt.show()"
   ]
  },
  {
   "cell_type": "code",
   "execution_count": 44,
   "metadata": {
    "execution": {
     "iopub.execute_input": "2021-06-27T17:14:58.113749Z",
     "iopub.status.busy": "2021-06-27T17:14:58.113522Z",
     "iopub.status.idle": "2021-06-27T17:14:58.230485Z",
     "shell.execute_reply": "2021-06-27T17:14:58.229964Z",
     "shell.execute_reply.started": "2021-06-27T17:14:58.113727Z"
    }
   },
   "outputs": [
    {
     "data": {
      "image/png": "[encoded data removed]",
      "text/plain": [
       "<Figure size 432x288 with 1 Axes>"
      ]
     },
     "metadata": {
      "needs_background": "light"
     },
     "output_type": "display_data"
    }
   ],
   "source": [
    "from matplotlib import pyplot as plt\n",
    "plt.plot(history.history['accuracy'])\n",
    "plt.plot(history.history['val_accuracy'])\n",
    "plt.title('model accuracy')\n",
    "plt.ylabel('accuracy')\n",
    "plt.xlabel('epoch')\n",
    "plt.legend(['train', 'validation'], loc='upper left')\n",
    "plt.show()"
   ]
  },
  {
   "cell_type": "markdown",
   "metadata": {},
   "source": [
    "# Accuraacy "
   ]
  },
  {
   "cell_type": "code",
   "execution_count": 45,
   "metadata": {
    "execution": {
     "iopub.execute_input": "2021-06-27T17:14:59.818544Z",
     "iopub.status.busy": "2021-06-27T17:14:59.818310Z",
     "iopub.status.idle": "2021-06-27T17:15:01.696025Z",
     "shell.execute_reply": "2021-06-27T17:15:01.695316Z",
     "shell.execute_reply.started": "2021-06-27T17:14:59.818522Z"
    }
   },
   "outputs": [
    {
     "name": "stdout",
     "output_type": "stream",
     "text": [
      "304/304 [==============================] - 1s 2ms/step - loss: 0.2411 - accuracy: 0.9512\n"
     ]
    },
    {
     "data": {
      "text/plain": [
       "[0.24112242460250854, 0.9512245059013367]"
      ]
     },
     "execution_count": 45,
     "metadata": {},
     "output_type": "execute_result"
    }
   ],
   "source": [
    "model.evaluate(X_test, y_test)"
   ]
  },
  {
   "cell_type": "markdown",
   "metadata": {},
   "source": [
    "# Predictions"
   ]
  },
  {
   "cell_type": "code",
   "execution_count": 46,
   "metadata": {},
   "outputs": [
    {
     "data": {
      "text/plain": [
       "array([[0.9954904],\n",
       "       [0.9954904],\n",
       "       [0.9954904],\n",
       "       [0.9954904],\n",
       "       [0.9954904]], dtype=float32)"
      ]
     },
     "execution_count": 46,
     "metadata": {},
     "output_type": "execute_result"
    }
   ],
   "source": [
    "y_pred = model.predict(X_test)\n",
    "y_pred[5:10]"
   ]
  },
  {
   "cell_type": "code",
   "execution_count": 47,
   "metadata": {},
   "outputs": [],
   "source": [
    "y_pred1 = []\n",
    "for element in y_pred:\n",
    "    if element > 0.5:\n",
    "        y_pred1.append(1)\n",
    "    else:\n",
    "        y_pred1.append(0)"
   ]
  },
  {
   "cell_type": "code",
   "execution_count": 48,
   "metadata": {},
   "outputs": [
    {
     "data": {
      "text/plain": [
       "[1, 1, 1, 1, 1, 1, 1, 1, 1, 1]"
      ]
     },
     "execution_count": 48,
     "metadata": {},
     "output_type": "execute_result"
    }
   ],
   "source": [
    "y_pred1[:10]"
   ]
  },
  {
   "cell_type": "code",
   "execution_count": 49,
   "metadata": {},
   "outputs": [
    {
     "data": {
      "text/plain": [
       "array([1, 1, 1, 1, 1, 1, 1, 1, 1, 1], dtype=int64)"
      ]
     },
     "execution_count": 49,
     "metadata": {},
     "output_type": "execute_result"
    }
   ],
   "source": [
    "y_test[:10]"
   ]
  },
  {
   "cell_type": "code",
   "execution_count": 52,
   "metadata": {},
   "outputs": [
    {
     "name": "stdout",
     "output_type": "stream",
     "text": [
      "              precision    recall  f1-score   support\n",
      "\n",
      "           0       0.91      1.00      0.95      4859\n",
      "           1       1.00      0.90      0.95      4859\n",
      "\n",
      "    accuracy                           0.95      9718\n",
      "   macro avg       0.96      0.95      0.95      9718\n",
      "weighted avg       0.96      0.95      0.95      9718\n",
      "\n"
     ]
    }
   ],
   "source": [
    "#Classification Report\n",
    "from sklearn.metrics import classification_report, confusion_matrix \n",
    "print(classification_report(y_test,y_pred1))"
   ]
  },
  {
   "cell_type": "markdown",
   "metadata": {},
   "source": [
    "# Heat Map"
   ]
  },
  {
   "cell_type": "code",
   "execution_count": 51,
   "metadata": {},
   "outputs": [
    {
     "data": {
      "text/plain": [
       "Text(69.0, 0.5, 'actual')"
      ]
     },
     "execution_count": 51,
     "metadata": {},
     "output_type": "execute_result"
    },
    {
     "data": {
      "image/png": "[encoded data removed]",
      "text/plain": [
       "<Figure size 720x576 with 2 Axes>"
      ]
     },
     "metadata": {
      "needs_background": "light"
     },
     "output_type": "display_data"
    }
   ],
   "source": [
    "import seaborn as sn\n",
    "\n",
    "cm = tf.math.confusion_matrix(labels = y_test, predictions = y_pred1)\n",
    "\n",
    "plt.figure(figsize = (10,8))\n",
    "sn.heatmap(cm, annot = True, fmt = 'd')\n",
    "plt.xlabel(\"predicted\")\n",
    "plt.ylabel(\"actual\")"
   ]
  },
  {
   "cell_type": "markdown",
   "metadata": {},
   "source": [
    "Medium article link: https://vomchaithanya.medium.com/network-intrusion-detection-ffb4d79f9edb"
   ]
  }
 ],
 "metadata": {
  "kernelspec": {
   "display_name": "Python 3",
   "language": "python",
   "name": "python3"
  },
  "language_info": {
   "codemirror_mode": {
    "name": "ipython",
    "version": 3
   },
   "file_extension": ".py",
   "mimetype": "text/x-python",
   "name": "python",
   "nbconvert_exporter": "python",
   "pygments_lexer": "ipython3",
   "version": "3.8.8"
  }
 },
 "nbformat": 4,
 "nbformat_minor": 4
}
